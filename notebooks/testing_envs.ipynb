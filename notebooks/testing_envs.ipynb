{
 "cells": [
  {
   "cell_type": "markdown",
   "id": "11928400",
   "metadata": {},
   "source": [
    "# Testing envs"
   ]
  },
  {
   "cell_type": "code",
   "execution_count": 1,
   "metadata": {},
   "outputs": [
    {
     "name": "stdout",
     "output_type": "stream",
     "text": [
      "/home/mique/Desktop/Code/rl-module/notebooks\n",
      "/home/mique/Desktop/Code/rl-module/app\n"
     ]
    }
   ],
   "source": [
    "import os\n",
    "\n",
    "print(os.getcwd())\n",
    "if not os.getcwd().endswith(\"app\"):\n",
    "    os.chdir(\"../app\")\n",
    "    print(os.getcwd())\n",
    "\n",
    "import pandas as pd\n",
    "pd.set_option('display.max_rows', 500)\n",
    "pd.set_option('display.max_columns', 500)\n",
    "\n",
    "%load_ext autoreload\n",
    "%autoreload 2\n",
    "%matplotlib inline"
   ]
  },
  {
   "cell_type": "markdown",
   "id": "5ae7ed54",
   "metadata": {},
   "source": [
    "# 2048"
   ]
  },
  {
   "cell_type": "code",
   "execution_count": 2,
   "id": "e8f18214",
   "metadata": {},
   "outputs": [],
   "source": [
    "from src.custom_envs import Env2048\n",
    "\n",
    "env = Env2048()"
   ]
  },
  {
   "cell_type": "code",
   "execution_count": 3,
   "id": "59d09ea4",
   "metadata": {},
   "outputs": [
    {
     "data": {
      "text/plain": [
       "array([[0, 0, 0, 0],\n",
       "       [2, 0, 2, 0],\n",
       "       [0, 0, 0, 0],\n",
       "       [0, 0, 0, 0]], dtype=int16)"
      ]
     },
     "execution_count": 3,
     "metadata": {},
     "output_type": "execute_result"
    }
   ],
   "source": [
    "state = env.reset()\n",
    "state"
   ]
  },
  {
   "cell_type": "code",
   "execution_count": 4,
   "id": "8bf43cd7",
   "metadata": {},
   "outputs": [
    {
     "ename": "AttributeError",
     "evalue": "'Env2048' object has no attribute 'n_new_boxes_per_action'",
     "output_type": "error",
     "traceback": [
      "\u001b[31m---------------------------------------------------------------------------\u001b[39m",
      "\u001b[31mAttributeError\u001b[39m                            Traceback (most recent call last)",
      "\u001b[36mCell\u001b[39m\u001b[36m \u001b[39m\u001b[32mIn[4]\u001b[39m\u001b[32m, line 1\u001b[39m\n\u001b[32m----> \u001b[39m\u001b[32m1\u001b[39m state, reward, terminated, truncated, info = \u001b[43menv\u001b[49m\u001b[43m.\u001b[49m\u001b[43mstep\u001b[49m\u001b[43m(\u001b[49m\u001b[32;43m0\u001b[39;49m\u001b[43m)\u001b[49m\n\u001b[32m      2\u001b[39m state\n",
      "\u001b[36mFile \u001b[39m\u001b[32m~/Desktop/Code/rl-module/app/src/custom_envs/env_2048.py:194\u001b[39m, in \u001b[36mEnv2048.step\u001b[39m\u001b[34m(self, action)\u001b[39m\n\u001b[32m    189\u001b[39m     ...\n\u001b[32m    191\u001b[39m \u001b[38;5;66;03m# =========================================================================================\u001b[39;00m\n\u001b[32m    192\u001b[39m \u001b[38;5;66;03m#                                        ADD NEW BOX\u001b[39;00m\n\u001b[32m    193\u001b[39m \u001b[38;5;66;03m# =========================================================================================\u001b[39;00m\n\u001b[32m--> \u001b[39m\u001b[32m194\u001b[39m \u001b[38;5;28mself\u001b[39m.add_new_boxes(n_boxes=\u001b[38;5;28;43mself\u001b[39;49m\u001b[43m.\u001b[49m\u001b[43mn_new_boxes_per_action\u001b[49m)\n\u001b[32m    196\u001b[39m \u001b[38;5;66;03m# =========================================================================================\u001b[39;00m\n\u001b[32m    197\u001b[39m \u001b[38;5;66;03m#                                        INFO & RETURN\u001b[39;00m\n\u001b[32m    198\u001b[39m \u001b[38;5;66;03m# =========================================================================================\u001b[39;00m\n\u001b[32m    199\u001b[39m info = {}\n",
      "\u001b[31mAttributeError\u001b[39m: 'Env2048' object has no attribute 'n_new_boxes_per_action'"
     ]
    }
   ],
   "source": [
    "state, reward, terminated, truncated, info = env.step(0)\n",
    "state"
   ]
  }
 ],
 "metadata": {
  "kernelspec": {
   "display_name": "venv",
   "language": "python",
   "name": "python3"
  },
  "language_info": {
   "codemirror_mode": {
    "name": "ipython",
    "version": 3
   },
   "file_extension": ".py",
   "mimetype": "text/x-python",
   "name": "python",
   "nbconvert_exporter": "python",
   "pygments_lexer": "ipython3",
   "version": "3.12.3"
  }
 },
 "nbformat": 4,
 "nbformat_minor": 5
}
